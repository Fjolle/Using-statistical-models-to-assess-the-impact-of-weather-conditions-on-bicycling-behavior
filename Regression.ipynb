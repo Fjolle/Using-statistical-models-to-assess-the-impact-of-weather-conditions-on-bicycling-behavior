{
 "cells": [
  {
   "cell_type": "markdown",
   "metadata": {},
   "source": [
    "## Analyzing the impact of weather on bike trip duration using OLS regression method\n",
    "\n"
   ]
  },
  {
   "cell_type": "code",
   "execution_count": 1,
   "metadata": {},
   "outputs": [],
   "source": [
    "import pandas as pd\n",
    "import matplotlib.pyplot as plt\n",
    "pd.options.display.float_format = '{:.4f}'.format\n",
    "\n",
    "pd.set_option('display.max_columns', 999)\n",
    "\n",
    "# All Libraries needed for Regression imported\n",
    "\n",
    "# All Dataframes as CSV needed for regression\n",
    "\n",
    "bike_journey_data=pd.read_csv('bike_journey_data_27_mar_2020.csv')\n",
    "weather_data=pd.read_csv('weather_data_27_mar_2020.csv')"
   ]
  },
  {
   "cell_type": "code",
   "execution_count": 2,
   "metadata": {},
   "outputs": [
    {
     "data": {
      "text/plain": [
       "\"weather_data=weather_data.drop(columns=['Date','Date Converted','Hours','id'])\\nweather_data=weather_data.set_index('id_Hours')\\n\\nfrom scipy import stats\\nimport numpy as np\\n\\ndf = pd.DataFrame(weather_data)\\ndf.head()\\n\\nz = np.abs(stats.zscore(df))\\nprint(z)\\nthreshold = 4\\nprint(np.where(z > 4))\\n\\ndf = df[(z < 4).all(axis=1)]\\nprint(df.shape)\""
      ]
     },
     "execution_count": 2,
     "metadata": {},
     "output_type": "execute_result"
    }
   ],
   "source": [
    "'''weather_data=weather_data.drop(columns=['Date','Date Converted','Hours','id'])\n",
    "weather_data=weather_data.set_index('id_Hours')\n",
    "\n",
    "from scipy import stats\n",
    "import numpy as np\n",
    "\n",
    "df = pd.DataFrame(weather_data)\n",
    "df.head()\n",
    "\n",
    "z = np.abs(stats.zscore(df))\n",
    "print(z)\n",
    "threshold = 4\n",
    "print(np.where(z > 4))\n",
    "\n",
    "df = df[(z < 4).all(axis=1)]\n",
    "print(df.shape)'''"
   ]
  },
  {
   "cell_type": "code",
   "execution_count": 3,
   "metadata": {},
   "outputs": [
    {
     "data": {
      "text/plain": [
       "\"x=df['precipIntensity']\\nplt.boxplot(x, notch=None)\""
      ]
     },
     "execution_count": 3,
     "metadata": {},
     "output_type": "execute_result"
    }
   ],
   "source": [
    "'''x=df['precipIntensity']\n",
    "plt.boxplot(x, notch=None)'''"
   ]
  },
  {
   "cell_type": "code",
   "execution_count": 4,
   "metadata": {},
   "outputs": [
    {
     "data": {
      "text/plain": [
       "\"statistics = df['precipIntensity'].describe()\\nstatistics\""
      ]
     },
     "execution_count": 4,
     "metadata": {},
     "output_type": "execute_result"
    }
   ],
   "source": [
    "'''statistics = df['precipIntensity'].describe()\n",
    "statistics'''"
   ]
  },
  {
   "cell_type": "code",
   "execution_count": 5,
   "metadata": {},
   "outputs": [],
   "source": [
    "'''# Collpase the bike and weather dataset by trips by hour and sum the number of trips and total duration of all trips by hour\n",
    "reg_merge= bike_journey_data.merge(right=weather_data,\n",
    "                             left_on = 'id_hours',\n",
    "                             right_on = 'id_Hours')\n",
    "\n",
    "reg_merge['bike_trips_by_hour'] = 1\n",
    "def bike_trips_by_hour(reg_merge, renamed_count):\n",
    "    bike_trips_by_hour = reg_merge.loc[:, ('id_hours', 'bike_trips_by_hour')].groupby(['id_hours']).sum()\n",
    "    bike_trips_by_hour.reset_index(inplace=True)\n",
    "    bike_trips_by_hour.rename(columns={'bike_trips_by_hour': str(renamed_count)}, inplace=True)\n",
    "    return bike_trips_by_hour\n",
    "bike_trips_by_hour = bike_trips_by_hour(reg_merge, 'bike_trips_by_hour')\n",
    "\n",
    "reg_merge3= reg_merge.merge(right=bike_trips_by_hour,\n",
    "                             left_on = 'id_hours',\n",
    "                             right_on = 'id_hours')\n",
    "\n",
    "reg_merge3['Duration in hours'] = 1\n",
    "def duration_by_hour(reg_merge3, renamed_count):\n",
    "    duration_by_hour = reg_merge3.loc[:, ('id_hours', 'Duration in minutes')].groupby(['id_hours']).sum()\n",
    "    duration_by_hour.reset_index(inplace=True)\n",
    "    duration_by_hour.rename(columns={'Duration in minutes': str(renamed_count)}, inplace=True)\n",
    "    return duration_by_hour\n",
    "duration_by_hour = duration_by_hour(reg_merge3, 'duration_by_hour')\n",
    "\n",
    "regression_dataset= reg_merge3.merge(right=duration_by_hour,\n",
    "                             left_on = 'id_hours',\n",
    "                             right_on = 'id_hours')\n",
    "\n",
    "regression_dataset['Avg trip duration']=regression_dataset['duration_by_hour']/regression_dataset['bike_trips_by_hour_y']'''\n"
   ]
  },
  {
   "cell_type": "code",
   "execution_count": 8,
   "metadata": {},
   "outputs": [],
   "source": [
    "'''df_month=pd.get_dummies(regression_dataset.Month_x)\n",
    "df_month.columns=['Jan','Feb','Mar', 'Apr','May','Jun','Jul','Aug','Sept','Oct','Nov','Dec']\n",
    "#df_month=df_month.astype(int)\n",
    "regression_dataset = regression_dataset.join(df_month)'''"
   ]
  },
  {
   "cell_type": "code",
   "execution_count": 9,
   "metadata": {},
   "outputs": [],
   "source": [
    "'''##Generating dummy variables based on temperature\n",
    "\n",
    "regression_dataset[\"temp_0\"] = regression_dataset['temperature'].apply(lambda x: 1 if x <=0 else 0)\n",
    "regression_dataset[\"temp_5\"] = regression_dataset['temperature'].apply(lambda x: 1 if x>0 else 0) & regression_dataset['temperature'].apply(lambda x: 1 if x<=5 else 0)\n",
    "regression_dataset[\"temp_10\"] = regression_dataset['temperature'].apply(lambda x: 1 if x>5 else 0) & regression_dataset['temperature'].apply(lambda x: 1 if x<=10 else 0)\n",
    "regression_dataset[\"temp_15\"] = regression_dataset['temperature'].apply(lambda x: 1 if x>10 else 0) & regression_dataset['temperature'].apply(lambda x: 1 if x<=15 else 0)\n",
    "\n",
    "regression_dataset[\"temp_20\"] = regression_dataset['temperature'].apply(lambda x: 1 if x>15 else 0) & regression_dataset['temperature'].apply(lambda x: 1 if x<=20 else 0)\n",
    "regression_dataset[\"temp_25\"] = regression_dataset['temperature'].apply(lambda x: 1 if x>20 else 0) & regression_dataset['temperature'].apply(lambda x: 1 if x<=25 else 0)\n",
    "\n",
    "regression_dataset[\"temp_30\"] = regression_dataset['temperature'].apply(lambda x: 1 if x>25 else 0) & regression_dataset['temperature'].apply(lambda x: 1 if x<=30 else 0)\n",
    "regression_dataset[\"temp_35\"] = regression_dataset['temperature'].apply(lambda x: 1 if x>30 else 0) & regression_dataset['temperature'].apply(lambda x: 1 if x<=35 else 0)\n",
    "regression_dataset[\"temp_40\"] = regression_dataset['temperature'].apply(lambda x: 1 if x>35 else 0)\n",
    "regression_dataset['Jan']=regression_dataset['Jan'].replace(1,0)'''\n"
   ]
  },
  {
   "cell_type": "code",
   "execution_count": 10,
   "metadata": {},
   "outputs": [],
   "source": [
    "'''##Generating a dummy variables for humidity and rain based on the mean value (0.6497)\n",
    "regression_dataset[\"relative_humidity\"] = regression_dataset['humidity'].apply(lambda x: 1 if x >=0.6497 else 0)\n",
    "regression_dataset[\"rain\"] = regression_dataset['precipIntensity'].apply(lambda x: 1 if x >0.0697 else 0)'''"
   ]
  },
  {
   "cell_type": "code",
   "execution_count": 9,
   "metadata": {},
   "outputs": [],
   "source": [
    "#x=regression_dataset['humidity']\n",
    "#plt.boxplot(x, notch=None)"
   ]
  },
  {
   "cell_type": "code",
   "execution_count": 10,
   "metadata": {
    "scrolled": true
   },
   "outputs": [
    {
     "name": "stderr",
     "output_type": "stream",
     "text": [
      "/Users/albegjonbalaj/anaconda3/lib/python3.7/site-packages/numpy/core/fromnumeric.py:2389: FutureWarning: Method .ptp is deprecated and will be removed in a future version. Use numpy.ptp instead.\n",
      "  return ptp(axis=axis, out=out, **kwargs)\n"
     ]
    }
   ],
   "source": [
    "'''import statsmodels.api as sm\n",
    "import statsmodels.formula.api as smf\n",
    "from statsmodels.iolib.summary2 import summary_col\n",
    "\n",
    "y = 'Avg trip duration'\n",
    "x_1 = ['temp_0','temp_5', 'temp_10', 'temp_15', 'temp_20', 'temp_25', 'temp_30', 'temp_35']\n",
    "x_2 = ['temp_0','temp_5', 'temp_10', 'temp_15', 'temp_20', 'temp_25', 'temp_30', 'temp_35','relative_humidity', 'rain','Feb','Mar', 'Apr','May','Jun','Jul','Aug','Sept','Oct','Nov','Dec']\n",
    "x_3 = ['temp_0','temp_5', 'temp_10', 'temp_15', 'temp_20', 'temp_25', 'temp_30', 'temp_35','humidity','precipIntensity','Feb','Mar', 'Apr','May','Jun','Jul','Aug','Sept','Oct','Nov','Dec']\n",
    "\n",
    "#model_Simple = sm.OLS(temperature_10_dataset[y], temperature_10_dataset[x]).fit()\n",
    "\n",
    "model_1 = sm.OLS(regression_dataset[y], sm.add_constant(regression_dataset[x_1])).fit()\n",
    "model_1.summary()\n",
    "model_2 = sm.OLS(regression_dataset[y], sm.add_constant(regression_dataset[x_2])).fit()\n",
    "model_3 = sm.OLS(regression_dataset[y], sm.add_constant(regression_dataset[x_3])).fit()'''"
   ]
  },
  {
   "cell_type": "code",
   "execution_count": 6,
   "metadata": {},
   "outputs": [
    {
     "name": "stderr",
     "output_type": "stream",
     "text": [
      "/Users/albegjonbalaj/anaconda3/lib/python3.7/site-packages/pandas/core/ops/__init__.py:1115: FutureWarning: elementwise comparison failed; returning scalar instead, but in the future will perform elementwise comparison\n",
      "  result = method(y)\n"
     ]
    }
   ],
   "source": [
    "'''## descriptive statistics\n",
    "statistics_1 = regression_dataset['bike_trips_by_hour_y'].describe()\n",
    "statistics_1\n",
    "\n",
    "statistics_2 = regression_dataset['Avg trip duration'].describe()\n",
    "statistics_2\n",
    "\n",
    "statistics_3 = regression_dataset['temperature'].describe()\n",
    "statistics_3\n",
    "\n",
    "statistics_4 = regression_dataset['humidity'].describe()\n",
    "statistics_4\n",
    "\n",
    "statistics_5 = regression_dataset['windSpeed'].describe()\n",
    "statistics_5'''\n",
    "\n"
   ]
  },
  {
   "cell_type": "code",
   "execution_count": 11,
   "metadata": {
    "collapsed": true
   },
   "outputs": [
    {
     "name": "stdout",
     "output_type": "stream",
     "text": [
      "\n",
      "================================================================================\n",
      "                  Avg trip duration I Avg trip duration II Avg trip duration III\n",
      "--------------------------------------------------------------------------------\n",
      "Apr                                   1.2335***            0.9435***            \n",
      "                                      (0.0116)             (0.0115)             \n",
      "Aug                                   -1.9714***           -1.3144***           \n",
      "                                      (0.0129)             (0.0128)             \n",
      "Dec                                   2.5049***            2.7019***            \n",
      "                                      (0.0113)             (0.0113)             \n",
      "Feb                                   0.6096***            0.8480***            \n",
      "                                      (0.0112)             (0.0111)             \n",
      "Jul                                   -3.4095***           -2.5703***           \n",
      "                                      (0.0129)             (0.0129)             \n",
      "Jun                                   -1.2689***           -0.6154***           \n",
      "                                      (0.0125)             (0.0125)             \n",
      "Mar                                   -0.2542***           -0.3721***           \n",
      "                                      (0.0115)             (0.0114)             \n",
      "May                                   -1.2997***           -1.3666***           \n",
      "                                      (0.0120)             (0.0119)             \n",
      "Nov                                   0.1181***            0.2922***            \n",
      "                                      (0.0110)             (0.0109)             \n",
      "Oct                                   -0.7693***           -0.2376***           \n",
      "                                      (0.0118)             (0.0117)             \n",
      "R-squared         0.1910              0.2544               0.2673               \n",
      "                  0.1910              0.2544               0.2673               \n",
      "Sept                                  -2.7223***           -2.3324***           \n",
      "                                      (0.0125)             (0.0124)             \n",
      "const             23.6070***          27.3979***           29.0254***           \n",
      "                  (0.0450)            (0.0451)             (0.0448)             \n",
      "humidity                                                   -10.7250***          \n",
      "                                                           (0.0152)             \n",
      "precipIntensity                                            -0.0879***           \n",
      "                                                           (0.0041)             \n",
      "rain                                  -1.6438***                                \n",
      "                                      (0.0051)                                  \n",
      "relative_humidity                     -1.8373***                                \n",
      "                                      (0.0047)                                  \n",
      "temp_0            -8.5415***          -10.5567***          -5.1259***           \n",
      "                  (0.0521)            (0.0517)             (0.0519)             \n",
      "temp_10           -6.6869***          -9.2269***           -4.6734***           \n",
      "                  (0.0452)            (0.0445)             (0.0448)             \n",
      "temp_15           -5.4028***          -7.1988***           -3.1378***           \n",
      "                  (0.0452)            (0.0441)             (0.0443)             \n",
      "temp_20           -3.5322***          -4.4602***           -0.9789***           \n",
      "                  (0.0452)            (0.0438)             (0.0438)             \n",
      "temp_25           0.7241***           -0.5436***           2.3597***            \n",
      "                  (0.0452)            (0.0437)             (0.0435)             \n",
      "temp_30           1.2383***           0.1100**             2.0738***            \n",
      "                  (0.0465)            (0.0447)             (0.0444)             \n",
      "temp_35           2.9489***           1.7978***            2.5670***            \n",
      "                  (0.0483)            (0.0465)             (0.0461)             \n",
      "temp_5            -7.6331***          -10.2343***          -5.1181***           \n",
      "                  (0.0456)            (0.0452)             (0.0455)             \n",
      "================================================================================\n",
      "Standard errors in parentheses.\n",
      "* p<.1, ** p<.05, ***p<.01\n"
     ]
    }
   ],
   "source": [
    "'''dfoutput = summary_col([model_1, model_2, model_3],stars=True)\n",
    "print(dfoutput)'''"
   ]
  },
  {
   "cell_type": "code",
   "execution_count": 235,
   "metadata": {},
   "outputs": [
    {
     "data": {
      "text/html": [
       "<div>\n",
       "<style scoped>\n",
       "    .dataframe tbody tr th:only-of-type {\n",
       "        vertical-align: middle;\n",
       "    }\n",
       "\n",
       "    .dataframe tbody tr th {\n",
       "        vertical-align: top;\n",
       "    }\n",
       "\n",
       "    .dataframe thead th {\n",
       "        text-align: right;\n",
       "    }\n",
       "</style>\n",
       "<table border=\"1\" class=\"dataframe\">\n",
       "  <thead>\n",
       "    <tr style=\"text-align: right;\">\n",
       "      <th></th>\n",
       "      <th>Date</th>\n",
       "      <th>temperature</th>\n",
       "      <th>precipIntensity</th>\n",
       "      <th>humidity</th>\n",
       "      <th>windSpeed</th>\n",
       "      <th>visibility</th>\n",
       "      <th>Date.1</th>\n",
       "      <th>Date Converted</th>\n",
       "      <th>Hours</th>\n",
       "      <th>Day</th>\n",
       "      <th>Week Day</th>\n",
       "      <th>Month</th>\n",
       "      <th>Year</th>\n",
       "      <th>id</th>\n",
       "      <th>id_Hours</th>\n",
       "    </tr>\n",
       "  </thead>\n",
       "  <tbody>\n",
       "    <tr>\n",
       "      <th>0</th>\n",
       "      <td>2019-01-02 00:00:00</td>\n",
       "      <td>5.1100</td>\n",
       "      <td>0.0000</td>\n",
       "      <td>0.6900</td>\n",
       "      <td>7.6200</td>\n",
       "      <td>16.0930</td>\n",
       "      <td>2019-01-02 00:00:00</td>\n",
       "      <td>2019-01-02</td>\n",
       "      <td>0</td>\n",
       "      <td>2</td>\n",
       "      <td>2</td>\n",
       "      <td>1</td>\n",
       "      <td>2019</td>\n",
       "      <td>2019-1-2</td>\n",
       "      <td>2019-01-02-0</td>\n",
       "    </tr>\n",
       "    <tr>\n",
       "      <th>1</th>\n",
       "      <td>2019-01-02 01:00:00</td>\n",
       "      <td>4.4600</td>\n",
       "      <td>0.0000</td>\n",
       "      <td>0.7100</td>\n",
       "      <td>7.5200</td>\n",
       "      <td>16.0930</td>\n",
       "      <td>2019-01-02 01:00:00</td>\n",
       "      <td>2019-01-02</td>\n",
       "      <td>1</td>\n",
       "      <td>2</td>\n",
       "      <td>2</td>\n",
       "      <td>1</td>\n",
       "      <td>2019</td>\n",
       "      <td>2019-1-2</td>\n",
       "      <td>2019-01-02-1</td>\n",
       "    </tr>\n",
       "    <tr>\n",
       "      <th>2</th>\n",
       "      <td>2019-01-02 02:00:00</td>\n",
       "      <td>3.7700</td>\n",
       "      <td>0.0000</td>\n",
       "      <td>0.7300</td>\n",
       "      <td>7.6000</td>\n",
       "      <td>16.0930</td>\n",
       "      <td>2019-01-02 02:00:00</td>\n",
       "      <td>2019-01-02</td>\n",
       "      <td>2</td>\n",
       "      <td>2</td>\n",
       "      <td>2</td>\n",
       "      <td>1</td>\n",
       "      <td>2019</td>\n",
       "      <td>2019-1-2</td>\n",
       "      <td>2019-01-02-2</td>\n",
       "    </tr>\n",
       "    <tr>\n",
       "      <th>3</th>\n",
       "      <td>2019-01-02 03:00:00</td>\n",
       "      <td>3.1700</td>\n",
       "      <td>0.0000</td>\n",
       "      <td>0.7500</td>\n",
       "      <td>7.6600</td>\n",
       "      <td>16.0930</td>\n",
       "      <td>2019-01-02 03:00:00</td>\n",
       "      <td>2019-01-02</td>\n",
       "      <td>3</td>\n",
       "      <td>2</td>\n",
       "      <td>2</td>\n",
       "      <td>1</td>\n",
       "      <td>2019</td>\n",
       "      <td>2019-1-2</td>\n",
       "      <td>2019-01-02-3</td>\n",
       "    </tr>\n",
       "    <tr>\n",
       "      <th>4</th>\n",
       "      <td>2019-01-02 04:00:00</td>\n",
       "      <td>2.7200</td>\n",
       "      <td>0.0000</td>\n",
       "      <td>0.7600</td>\n",
       "      <td>7.6200</td>\n",
       "      <td>16.0930</td>\n",
       "      <td>2019-01-02 04:00:00</td>\n",
       "      <td>2019-01-02</td>\n",
       "      <td>4</td>\n",
       "      <td>2</td>\n",
       "      <td>2</td>\n",
       "      <td>1</td>\n",
       "      <td>2019</td>\n",
       "      <td>2019-1-2</td>\n",
       "      <td>2019-01-02-4</td>\n",
       "    </tr>\n",
       "  </tbody>\n",
       "</table>\n",
       "</div>"
      ],
      "text/plain": [
       "                  Date  temperature  precipIntensity  humidity  windSpeed  \\\n",
       "0  2019-01-02 00:00:00       5.1100           0.0000    0.6900     7.6200   \n",
       "1  2019-01-02 01:00:00       4.4600           0.0000    0.7100     7.5200   \n",
       "2  2019-01-02 02:00:00       3.7700           0.0000    0.7300     7.6000   \n",
       "3  2019-01-02 03:00:00       3.1700           0.0000    0.7500     7.6600   \n",
       "4  2019-01-02 04:00:00       2.7200           0.0000    0.7600     7.6200   \n",
       "\n",
       "   visibility               Date.1 Date Converted  Hours  Day  Week Day  \\\n",
       "0     16.0930  2019-01-02 00:00:00     2019-01-02      0    2         2   \n",
       "1     16.0930  2019-01-02 01:00:00     2019-01-02      1    2         2   \n",
       "2     16.0930  2019-01-02 02:00:00     2019-01-02      2    2         2   \n",
       "3     16.0930  2019-01-02 03:00:00     2019-01-02      3    2         2   \n",
       "4     16.0930  2019-01-02 04:00:00     2019-01-02      4    2         2   \n",
       "\n",
       "   Month  Year        id      id_Hours  \n",
       "0      1  2019  2019-1-2  2019-01-02-0  \n",
       "1      1  2019  2019-1-2  2019-01-02-1  \n",
       "2      1  2019  2019-1-2  2019-01-02-2  \n",
       "3      1  2019  2019-1-2  2019-01-02-3  \n",
       "4      1  2019  2019-1-2  2019-01-02-4  "
      ]
     },
     "execution_count": 235,
     "metadata": {},
     "output_type": "execute_result"
    }
   ],
   "source": [
    "weather_data.head()"
   ]
  },
  {
   "cell_type": "code",
   "execution_count": 50,
   "metadata": {},
   "outputs": [
    {
     "name": "stderr",
     "output_type": "stream",
     "text": [
      "/Users/albegjonbalaj/anaconda3/lib/python3.7/site-packages/ipykernel_launcher.py:2: SettingWithCopyWarning: \n",
      "A value is trying to be set on a copy of a slice from a DataFrame.\n",
      "Try using .loc[row_indexer,col_indexer] = value instead\n",
      "\n",
      "See the caveats in the documentation: http://pandas.pydata.org/pandas-docs/stable/user_guide/indexing.html#returning-a-view-versus-a-copy\n",
      "  \n"
     ]
    }
   ],
   "source": [
    "bike_journeys=bike_journey_data.loc[bike_journey_data['Duration in minutes'] < 200]\n",
    "bike_journeys['c'] = 1\n",
    "daily_bike_journeys = bike_journeys.loc[:, ('c', 'id', 'id_hours', 'Duration in minutes')].groupby(['id_hours']).sum()\n",
    "daily_bike_journeys.reset_index(inplace=True)\n",
    "daily_bike_journeys.rename(columns={'c': 'Bike trips', 'id': 'id', 'Hours': 'Hours'}, inplace=True)\n",
    "#print (daily_bike_journeys.shape)\n",
    "\n",
    "reg_data= daily_bike_journeys.merge(right=weather_data,\n",
    "                             left_on = 'id_hours',\n",
    "                             right_on = 'id_Hours')\n",
    "\n",
    "reg_data['Avg trip duration']=reg_data['Duration in minutes']/reg_data['Bike trips']\n",
    "\n",
    "df_month=pd.get_dummies(reg_data.Month)\n",
    "df_month.columns=['January 2019','February 2019','March 2019', 'April 2019','May 2019','June 2019','July 2019',\n",
    "                  'August 2019','September 2019','October 2019','November 2019','December 2019']\n",
    "reg_data = reg_data.join(df_month)\n",
    "\n",
    "reg_data[\"Temp - 0(°C)\"] = reg_data['temperature'].apply(lambda x: 1 if x <=0 else 0)\n",
    "reg_data[\"Temp - 5(°C)\"] = reg_data['temperature'].apply(lambda x: 1 if x>0 else 0) & reg_data['temperature'].apply(lambda x: 1 if x<=5 else 0)\n",
    "reg_data[\"Temp - 10(°C)\"] = reg_data['temperature'].apply(lambda x: 1 if x>5 else 0) & reg_data['temperature'].apply(lambda x: 1 if x<=10 else 0)\n",
    "reg_data[\"Temp - 15(°C)\"] = reg_data['temperature'].apply(lambda x: 1 if x>10 else 0) & reg_data['temperature'].apply(lambda x: 1 if x<=15 else 0)\n",
    "reg_data[\"Temp - 20(°C)\"] = reg_data['temperature'].apply(lambda x: 1 if x>15 else 0) & reg_data['temperature'].apply(lambda x: 1 if x<=20 else 0)\n",
    "reg_data[\"Temp - 25(°C)\"] = reg_data['temperature'].apply(lambda x: 1 if x>20 else 0) & reg_data['temperature'].apply(lambda x: 1 if x<=25 else 0)\n",
    "reg_data[\"Temp - 30(°C)\"] = reg_data['temperature'].apply(lambda x: 1 if x>25 else 0) & reg_data['temperature'].apply(lambda x: 1 if x<=30 else 0)#reg_data[\"temp_35\"] = reg_data['temperature'].apply(lambda x: 1 if x>30 else 0) & reg_data['temperature'].apply(lambda x: 1 if x<=35 else 0)\n",
    "reg_data[\"Temp - 35(°C)\"] = reg_data['temperature'].apply(lambda x: 1 if x>30 else 0) & reg_data['temperature'].apply(lambda x: 1 if x<=35 else 0)\n",
    "#reg_data[\"temp_40\"] = reg_data['temperature'].apply(lambda x: 1 if x>35 else 0)\n",
    "#reg_data['Jan']=reg_data['Jan'].replace(1,0)\n",
    "\n",
    "reg_data[\"Relative Humidity\"] = reg_data['humidity'].apply(lambda x: 1 if x >=0.6497 else 0)\n",
    "reg_data[\"Rain\"] = reg_data['precipIntensity'].apply(lambda x: 1 if x >0.0697 else 0)\n",
    "reg_data[\"Wind Speed (MPH)\"] = reg_data['windSpeed'].apply(lambda x: 1 if x >8.1400 else 0)\n",
    "\n",
    "reg_data[\"Weekend\"] = reg_data['Week Day'].apply(lambda x: 1 if x >4 else 0)\n",
    "\n",
    "reg_data[\"Peak travel hours\"] = reg_data['Hours'].apply(lambda x: 1 if x >=7 and x<10 else (1 if x >= 16 and x < 20 else 0))\n",
    "\n",
    "reg_data=reg_data.set_index('id')\n",
    "\n",
    "holidays = ['2019-1-1', '2019-4-19', '2019-4-22', '2019-5-6', '2019-5-27', '2019-8-26', '2019-12-25', '2019-12-26']\n",
    "reg_data['Holidays'] = reg_data.index.get_level_values(0).isin(holidays).astype(int)\n"
   ]
  },
  {
   "cell_type": "code",
   "execution_count": 54,
   "metadata": {},
   "outputs": [],
   "source": [
    "import statsmodels.api as sm\n",
    "import statsmodels.formula.api as smf\n",
    "from statsmodels.iolib.summary2 import summary_col\n",
    "\n",
    "y1 = 'Avg trip duration'\n",
    "y2 = 'Bike trips'\n",
    "\n",
    "x_0=['temperature']\n",
    "\n",
    "x_1 = [\"Temp - 15(°C)\",\"Relative Humidity\", \"Rain\", 'Wind Speed (MPH)','February 2019','March 2019', \n",
    "       'April 2019','May 2019','June 2019','July 2019','August 2019','September 2019','October 2019',\n",
    "       'November 2019','December 2019', \"Peak travel hours\",\n",
    "       \"Holidays\", \"Weekend\"]\n",
    "\n",
    "x_2 = [\"Temp - 0(°C)\", \"Temp - 5(°C)\", \"Temp - 10(°C)\", \"Temp - 15(°C)\", \"Temp - 20(°C)\", \"Temp - 25(°C)\",\n",
    "       \"Temp - 30(°C)\", \"Temp - 35(°C)\"]\n",
    "\n",
    "x_3 = [\"Temp - 0(°C)\", \"Temp - 5(°C)\", \"Temp - 10(°C)\", \"Temp - 15(°C)\", \"Temp - 20(°C)\", \"Temp - 25(°C)\",\n",
    "       \"Temp - 30(°C)\", \"Temp - 35(°C)\", \"Relative Humidity\", \"Rain\", 'Wind Speed (MPH)','February 2019','March 2019', \n",
    "       'April 2019','May 2019','June 2019','July 2019','August 2019','September 2019','October 2019',\n",
    "       'November 2019','December 2019', \"Peak travel hours\",\n",
    "       \"Holidays\", \"Weekend\"]\n",
    "\n",
    "#model_0 = sm.OLS(reg_data[y1], sm.add_constant(reg_data[x_0])).fit()\n",
    "model_1 = sm.OLS(reg_data[y1], sm.add_constant(reg_data[x_1])).fit()\n",
    "model_2 = sm.OLS(reg_data[y2], sm.add_constant(reg_data[x_3])).fit()\n",
    "model_3 = sm.OLS(reg_data[y1], sm.add_constant(reg_data[x_3])).fit()"
   ]
  },
  {
   "cell_type": "code",
   "execution_count": 56,
   "metadata": {},
   "outputs": [
    {
     "name": "stdout",
     "output_type": "stream",
     "text": [
      "Table 1: OLS Model for Weather Impacts on Hourly Average Trip Duration and Bike Trips\n",
      "=================================================\n",
      "                  Avg trip duration   Bike trips \n",
      "-------------------------------------------------\n",
      "Temp - 0(°C)      -5.8459***        -1350.6881***\n",
      "                  (1.2715)          (317.4773)   \n",
      "Temp - 5(°C)      -5.3745***        -1204.2040***\n",
      "                  (1.2220)          (305.1360)   \n",
      "Temp - 10(°C)     -4.7534***        -1071.7389***\n",
      "                  (1.2161)          (303.6538)   \n",
      "Temp - 15(°C)     -3.5539***        -783.7574*** \n",
      "                  (1.2118)          (302.5910)   \n",
      "Temp - 20(°C)     -2.0839*          -389.8567    \n",
      "                  (1.2075)          (301.5165)   \n",
      "Temp - 25(°C)     0.1949            82.4313      \n",
      "                  (1.2072)          (301.4314)   \n",
      "Temp - 30(°C)     0.4426            300.1087     \n",
      "                  (1.2351)          (308.3908)   \n",
      "Temp - 35(°C)     1.3261            430.6938     \n",
      "                  (1.2767)          (318.7901)   \n",
      "Relative Humidity -1.4238***        -555.1831*** \n",
      "                  (0.0925)          (23.1020)    \n",
      "Rain              -1.3666***        -177.8330*** \n",
      "                  (0.0864)          (21.5716)    \n",
      "Wind Speed (MPH)  -0.6074***        11.8642      \n",
      "                  (0.0680)          (16.9719)    \n",
      "Weekend           2.8927***         -361.0803*** \n",
      "                  (0.0710)          (17.7162)    \n",
      "Holidays          5.9471***         -392.0956*** \n",
      "                  (0.2364)          (59.0318)    \n",
      "Peak travel hours -1.2786***        1426.0256*** \n",
      "                  (0.0704)          (17.5807)    \n",
      "February 2019     0.2718            -53.0770     \n",
      "                  (0.1761)          (43.9635)    \n",
      "March 2019        -0.0761           -142.4926*** \n",
      "                  (0.1802)          (45.0041)    \n",
      "April 2019        0.4929***         -158.9784*** \n",
      "                  (0.1831)          (45.7146)    \n",
      "May 2019          -0.3182*          -239.7570*** \n",
      "                  (0.1927)          (48.1101)    \n",
      "June 2019         0.0158            -349.6028*** \n",
      "                  (0.2041)          (50.9584)    \n",
      "July 2019         -0.7749***        -579.9326*** \n",
      "                  (0.2175)          (54.3012)    \n",
      "August 2019       -0.3870*          -630.5657*** \n",
      "                  (0.2135)          (53.3088)    \n",
      "September 2019    -0.9985***        -363.5226*** \n",
      "                  (0.2035)          (50.8106)    \n",
      "October 2019      -0.6083***        -130.8457*** \n",
      "                  (0.1897)          (47.3632)    \n",
      "November 2019     -0.3304*          70.6955      \n",
      "                  (0.1761)          (43.9632)    \n",
      "December 2019     0.4720***         -122.4448*** \n",
      "                  (0.1746)          (43.5960)    \n",
      "R-squared         0.4539            0.5780       \n",
      "                  0.4555            0.5792       \n",
      "const             21.3823***        2264.3480*** \n",
      "                  (1.2211)          (304.8922)   \n",
      "=================================================\n",
      "Standard errors in parentheses.\n",
      "* p<.1, ** p<.05, ***p<.01\n"
     ]
    }
   ],
   "source": [
    "dfoutput = summary_col([model_3, model_2],stars=True, \n",
    "                       regressor_order=['temperature',\"Temp - 0(°C)\", \"Temp - 5(°C)\", \"Temp - 10(°C)\", \"Temp - 15(°C)\", \"Temp - 20(°C)\", \"Temp - 25(°C)\",\n",
    "                                        \"Temp - 30(°C)\", \"Temp - 35(°C)\", \"Relative Humidity\", \"Rain\", 'Wind Speed (MPH)', \"Weekend\",'Holidays',\n",
    "                                        \"Peak travel hours\",'February 2019','March 2019', \n",
    "                                        'April 2019','May 2019','June 2019','July 2019','August 2019','September 2019','October 2019',\n",
    "                                        'November 2019','December 2019'])\n",
    "\n",
    "dfoutput.add_title('Table 1: OLS Model for Weather Impacts on Hourly Average Trip Duration and Bike Trips')\n",
    "\n",
    "print(dfoutput)"
   ]
  },
  {
   "cell_type": "code",
   "execution_count": null,
   "metadata": {},
   "outputs": [],
   "source": []
  }
 ],
 "metadata": {
  "kernelspec": {
   "display_name": "Python 3",
   "language": "python",
   "name": "python3"
  },
  "language_info": {
   "codemirror_mode": {
    "name": "ipython",
    "version": 3
   },
   "file_extension": ".py",
   "mimetype": "text/x-python",
   "name": "python",
   "nbconvert_exporter": "python",
   "pygments_lexer": "ipython3",
   "version": "3.7.3"
  }
 },
 "nbformat": 4,
 "nbformat_minor": 2
}

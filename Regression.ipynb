{
 "cells": [
  {
   "cell_type": "markdown",
   "metadata": {},
   "source": [
    "## Analyzing the impact of weather on bike trip duration using OLS regression method\n",
    "\n"
   ]
  },
  {
   "cell_type": "code",
   "execution_count": 1,
   "metadata": {},
   "outputs": [],
   "source": [
    "import pandas as pd\n",
    "import matplotlib.pyplot as plt\n",
    "\n",
    "pd.set_option('display.max_columns', 999)\n",
    "\n",
    "# All Libraries needed for Regression imported\n",
    "\n",
    "# All Dataframes as CSV needed for regression\n",
    "\n",
    "bike_journey_data=pd.read_csv('bike_journey_data_27_mar_2020.csv')\n",
    "weather_data=pd.read_csv('weather_data_27_mar_2020.csv')"
   ]
  },
  {
   "cell_type": "code",
   "execution_count": 2,
   "metadata": {},
   "outputs": [
    {
     "data": {
      "text/plain": [
       "\"weather_data=weather_data.drop(columns=['Date','Date Converted','Hours','id'])\\nweather_data=weather_data.set_index('id_Hours')\\n\\nfrom scipy import stats\\nimport numpy as np\\n\\ndf = pd.DataFrame(weather_data)\\ndf.head()\\n\\nz = np.abs(stats.zscore(df))\\nprint(z)\\nthreshold = 4\\nprint(np.where(z > 4))\\n\\ndf = df[(z < 4).all(axis=1)]\\nprint(df.shape)\""
      ]
     },
     "execution_count": 2,
     "metadata": {},
     "output_type": "execute_result"
    }
   ],
   "source": [
    "'''weather_data=weather_data.drop(columns=['Date','Date Converted','Hours','id'])\n",
    "weather_data=weather_data.set_index('id_Hours')\n",
    "\n",
    "from scipy import stats\n",
    "import numpy as np\n",
    "\n",
    "df = pd.DataFrame(weather_data)\n",
    "df.head()\n",
    "\n",
    "z = np.abs(stats.zscore(df))\n",
    "print(z)\n",
    "threshold = 4\n",
    "print(np.where(z > 4))\n",
    "\n",
    "df = df[(z < 4).all(axis=1)]\n",
    "print(df.shape)'''"
   ]
  },
  {
   "cell_type": "code",
   "execution_count": 3,
   "metadata": {},
   "outputs": [
    {
     "data": {
      "text/plain": [
       "\"x=df['precipIntensity']\\nplt.boxplot(x, notch=None)\""
      ]
     },
     "execution_count": 3,
     "metadata": {},
     "output_type": "execute_result"
    }
   ],
   "source": [
    "'''x=df['precipIntensity']\n",
    "plt.boxplot(x, notch=None)'''"
   ]
  },
  {
   "cell_type": "code",
   "execution_count": 4,
   "metadata": {},
   "outputs": [
    {
     "data": {
      "text/plain": [
       "\"statistics = df['precipIntensity'].describe()\\nstatistics\""
      ]
     },
     "execution_count": 4,
     "metadata": {},
     "output_type": "execute_result"
    }
   ],
   "source": [
    "'''statistics = df['precipIntensity'].describe()\n",
    "statistics'''"
   ]
  },
  {
   "cell_type": "code",
   "execution_count": 5,
   "metadata": {},
   "outputs": [],
   "source": [
    "# Collpase the bike and weather dataset by trips by hour and sum the number of trips and total duration of all trips by hour\n",
    "reg_merge= bike_journey_data.merge(right=weather_data,\n",
    "                             left_on = 'id_hours',\n",
    "                             right_on = 'id_Hours')\n",
    "\n",
    "reg_merge['bike_trips_by_hour'] = 1\n",
    "def bike_trips_by_hour(reg_merge, renamed_count):\n",
    "    bike_trips_by_hour = reg_merge.loc[:, ('id_hours', 'bike_trips_by_hour')].groupby(['id_hours']).sum()\n",
    "    bike_trips_by_hour.reset_index(inplace=True)\n",
    "    bike_trips_by_hour.rename(columns={'bike_trips_by_hour': str(renamed_count)}, inplace=True)\n",
    "    return bike_trips_by_hour\n",
    "bike_trips_by_hour = bike_trips_by_hour(reg_merge, 'bike_trips_by_hour')\n",
    "\n",
    "reg_merge3= reg_merge.merge(right=bike_trips_by_hour,\n",
    "                             left_on = 'id_hours',\n",
    "                             right_on = 'id_hours')\n",
    "\n",
    "reg_merge3['Duration in hours'] = 1\n",
    "def duration_by_hour(reg_merge3, renamed_count):\n",
    "    duration_by_hour = reg_merge3.loc[:, ('id_hours', 'Duration in minutes')].groupby(['id_hours']).sum()\n",
    "    duration_by_hour.reset_index(inplace=True)\n",
    "    duration_by_hour.rename(columns={'Duration in minutes': str(renamed_count)}, inplace=True)\n",
    "    return duration_by_hour\n",
    "duration_by_hour = duration_by_hour(reg_merge3, 'duration_by_hour')\n",
    "\n",
    "regression_dataset= reg_merge3.merge(right=duration_by_hour,\n",
    "                             left_on = 'id_hours',\n",
    "                             right_on = 'id_hours')\n",
    "\n",
    "regression_dataset['Avg trip duration']=regression_dataset['duration_by_hour']/regression_dataset['bike_trips_by_hour_y']"
   ]
  },
  {
   "cell_type": "code",
   "execution_count": 6,
   "metadata": {},
   "outputs": [],
   "source": [
    "df_month=pd.get_dummies(regression_dataset.Month)\n",
    "df_month.columns=['Jan','Feb','Mar', 'Apr','May','Jun','Jul','Aug','Sept','Oct','Nov','Dec']\n",
    "#df_month=df_month.astype(int)\n",
    "regression_dataset = regression_dataset.join(df_month)"
   ]
  },
  {
   "cell_type": "code",
   "execution_count": 7,
   "metadata": {},
   "outputs": [],
   "source": [
    "##Generating dummy variables based on temperature\n",
    "\n",
    "regression_dataset[\"temp_0\"] = regression_dataset['temperature'].apply(lambda x: 1 if x <=0 else 0)\n",
    "regression_dataset[\"temp_5\"] = regression_dataset['temperature'].apply(lambda x: 1 if x>0 else 0) & regression_dataset['temperature'].apply(lambda x: 1 if x<=5 else 0)\n",
    "regression_dataset[\"temp_10\"] = regression_dataset['temperature'].apply(lambda x: 1 if x>5 else 0) & regression_dataset['temperature'].apply(lambda x: 1 if x<=10 else 0)\n",
    "regression_dataset[\"temp_15\"] = regression_dataset['temperature'].apply(lambda x: 1 if x>10 else 0) & regression_dataset['temperature'].apply(lambda x: 1 if x<=15 else 0)\n",
    "\n",
    "regression_dataset[\"temp_20\"] = regression_dataset['temperature'].apply(lambda x: 1 if x>15 else 0) & regression_dataset['temperature'].apply(lambda x: 1 if x<=20 else 0)\n",
    "regression_dataset[\"temp_25\"] = regression_dataset['temperature'].apply(lambda x: 1 if x>20 else 0) & regression_dataset['temperature'].apply(lambda x: 1 if x<=25 else 0)\n",
    "\n",
    "regression_dataset[\"temp_30\"] = regression_dataset['temperature'].apply(lambda x: 1 if x>25 else 0) & regression_dataset['temperature'].apply(lambda x: 1 if x<=30 else 0)\n",
    "regression_dataset[\"temp_35\"] = regression_dataset['temperature'].apply(lambda x: 1 if x>30 else 0) & regression_dataset['temperature'].apply(lambda x: 1 if x<=35 else 0)\n",
    "regression_dataset[\"temp_40\"] = regression_dataset['temperature'].apply(lambda x: 1 if x>35 else 0)\n",
    "regression_dataset['Jan']=regression_dataset['Jan'].replace(1,0)\n"
   ]
  },
  {
   "cell_type": "code",
   "execution_count": 8,
   "metadata": {},
   "outputs": [],
   "source": [
    "##Generating a dummy variables for humidity and rain based on the mean value (0.6497)\n",
    "regression_dataset[\"relative_humidity\"] = regression_dataset['humidity'].apply(lambda x: 1 if x >=0.6497 else 0)\n",
    "\n",
    "regression_dataset[\"rain\"] = regression_dataset['precipIntensity'].apply(lambda x: 1 if x >0.0697 else 0)"
   ]
  },
  {
   "cell_type": "code",
   "execution_count": 9,
   "metadata": {},
   "outputs": [],
   "source": [
    "#x=regression_dataset['humidity']\n",
    "#plt.boxplot(x, notch=None)"
   ]
  },
  {
   "cell_type": "code",
   "execution_count": 10,
   "metadata": {
    "scrolled": true
   },
   "outputs": [
    {
     "name": "stderr",
     "output_type": "stream",
     "text": [
      "/Users/albegjonbalaj/anaconda3/lib/python3.7/site-packages/numpy/core/fromnumeric.py:2389: FutureWarning: Method .ptp is deprecated and will be removed in a future version. Use numpy.ptp instead.\n",
      "  return ptp(axis=axis, out=out, **kwargs)\n"
     ]
    }
   ],
   "source": [
    "import statsmodels.api as sm\n",
    "import statsmodels.formula.api as smf\n",
    "from statsmodels.iolib.summary2 import summary_col\n",
    "\n",
    "y = 'Avg trip duration'\n",
    "x_1 = ['temp_0','temp_5', 'temp_10', 'temp_15', 'temp_20', 'temp_25', 'temp_30', 'temp_35']\n",
    "x_2 = ['temp_0','temp_5', 'temp_10', 'temp_15', 'temp_20', 'temp_25', 'temp_30', 'temp_35','relative_humidity', 'rain','Feb','Mar', 'Apr','May','Jun','Jul','Aug','Sept','Oct','Nov','Dec']\n",
    "x_3 = ['temp_0','temp_5', 'temp_10', 'temp_15', 'temp_20', 'temp_25', 'temp_30', 'temp_35','humidity','precipIntensity','Feb','Mar', 'Apr','May','Jun','Jul','Aug','Sept','Oct','Nov','Dec']\n",
    "\n",
    "#model_Simple = sm.OLS(temperature_10_dataset[y], temperature_10_dataset[x]).fit()\n",
    "\n",
    "model_1 = sm.OLS(regression_dataset[y], sm.add_constant(regression_dataset[x_1])).fit()\n",
    "model_1.summary()\n",
    "model_2 = sm.OLS(regression_dataset[y], sm.add_constant(regression_dataset[x_2])).fit()\n",
    "model_3 = sm.OLS(regression_dataset[y], sm.add_constant(regression_dataset[x_3])).fit()"
   ]
  },
  {
   "cell_type": "code",
   "execution_count": 11,
   "metadata": {},
   "outputs": [
    {
     "name": "stdout",
     "output_type": "stream",
     "text": [
      "\n",
      "================================================================================\n",
      "                  Avg trip duration I Avg trip duration II Avg trip duration III\n",
      "--------------------------------------------------------------------------------\n",
      "Apr                                   1.2335***            0.9435***            \n",
      "                                      (0.0116)             (0.0115)             \n",
      "Aug                                   -1.9714***           -1.3144***           \n",
      "                                      (0.0129)             (0.0128)             \n",
      "Dec                                   2.5049***            2.7019***            \n",
      "                                      (0.0113)             (0.0113)             \n",
      "Feb                                   0.6096***            0.8480***            \n",
      "                                      (0.0112)             (0.0111)             \n",
      "Jul                                   -3.4095***           -2.5703***           \n",
      "                                      (0.0129)             (0.0129)             \n",
      "Jun                                   -1.2689***           -0.6154***           \n",
      "                                      (0.0125)             (0.0125)             \n",
      "Mar                                   -0.2542***           -0.3721***           \n",
      "                                      (0.0115)             (0.0114)             \n",
      "May                                   -1.2997***           -1.3666***           \n",
      "                                      (0.0120)             (0.0119)             \n",
      "Nov                                   0.1181***            0.2922***            \n",
      "                                      (0.0110)             (0.0109)             \n",
      "Oct                                   -0.7693***           -0.2376***           \n",
      "                                      (0.0118)             (0.0117)             \n",
      "R-squared         0.1910              0.2544               0.2673               \n",
      "                  0.1910              0.2544               0.2673               \n",
      "Sept                                  -2.7223***           -2.3324***           \n",
      "                                      (0.0125)             (0.0124)             \n",
      "const             23.6070***          27.3979***           29.0254***           \n",
      "                  (0.0450)            (0.0451)             (0.0448)             \n",
      "humidity                                                   -10.7250***          \n",
      "                                                           (0.0152)             \n",
      "precipIntensity                                            -0.0879***           \n",
      "                                                           (0.0041)             \n",
      "rain                                  -1.6438***                                \n",
      "                                      (0.0051)                                  \n",
      "relative_humidity                     -1.8373***                                \n",
      "                                      (0.0047)                                  \n",
      "temp_0            -8.5415***          -10.5567***          -5.1259***           \n",
      "                  (0.0521)            (0.0517)             (0.0519)             \n",
      "temp_10           -6.6869***          -9.2269***           -4.6734***           \n",
      "                  (0.0452)            (0.0445)             (0.0448)             \n",
      "temp_15           -5.4028***          -7.1988***           -3.1378***           \n",
      "                  (0.0452)            (0.0441)             (0.0443)             \n",
      "temp_20           -3.5322***          -4.4602***           -0.9789***           \n",
      "                  (0.0452)            (0.0438)             (0.0438)             \n",
      "temp_25           0.7241***           -0.5436***           2.3597***            \n",
      "                  (0.0452)            (0.0437)             (0.0435)             \n",
      "temp_30           1.2383***           0.1100**             2.0738***            \n",
      "                  (0.0465)            (0.0447)             (0.0444)             \n",
      "temp_35           2.9489***           1.7978***            2.5670***            \n",
      "                  (0.0483)            (0.0465)             (0.0461)             \n",
      "temp_5            -7.6331***          -10.2343***          -5.1181***           \n",
      "                  (0.0456)            (0.0452)             (0.0455)             \n",
      "================================================================================\n",
      "Standard errors in parentheses.\n",
      "* p<.1, ** p<.05, ***p<.01\n"
     ]
    }
   ],
   "source": [
    "dfoutput = summary_col([model_1, model_2, model_3],stars=True)\n",
    "print(dfoutput)"
   ]
  }
 ],
 "metadata": {
  "kernelspec": {
   "display_name": "Python 3",
   "language": "python",
   "name": "python3"
  },
  "language_info": {
   "codemirror_mode": {
    "name": "ipython",
    "version": 3
   },
   "file_extension": ".py",
   "mimetype": "text/x-python",
   "name": "python",
   "nbconvert_exporter": "python",
   "pygments_lexer": "ipython3",
   "version": "3.7.3"
  }
 },
 "nbformat": 4,
 "nbformat_minor": 2
}
